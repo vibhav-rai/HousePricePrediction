{
 "cells": [
  {
   "cell_type": "code",
   "execution_count": 1,
   "id": "9c5b1491",
   "metadata": {
    "_cell_guid": "b1076dfc-b9ad-4769-8c92-a6c4dae69d19",
    "_uuid": "8f2839f25d086af736a60e9eeb907d3b93b6e0e5",
    "execution": {
     "iopub.execute_input": "2025-07-24T19:01:04.087296Z",
     "iopub.status.busy": "2025-07-24T19:01:04.086994Z",
     "iopub.status.idle": "2025-07-24T19:01:05.934739Z",
     "shell.execute_reply": "2025-07-24T19:01:05.933656Z"
    },
    "papermill": {
     "duration": 1.858046,
     "end_time": "2025-07-24T19:01:05.936237",
     "exception": false,
     "start_time": "2025-07-24T19:01:04.078191",
     "status": "completed"
    },
    "tags": []
   },
   "outputs": [
    {
     "name": "stdout",
     "output_type": "stream",
     "text": [
      "/kaggle/input/home-data-for-ml-course/sample_submission.csv\n",
      "/kaggle/input/home-data-for-ml-course/sample_submission.csv.gz\n",
      "/kaggle/input/home-data-for-ml-course/train.csv.gz\n",
      "/kaggle/input/home-data-for-ml-course/data_description.txt\n",
      "/kaggle/input/home-data-for-ml-course/test.csv.gz\n",
      "/kaggle/input/home-data-for-ml-course/train.csv\n",
      "/kaggle/input/home-data-for-ml-course/test.csv\n"
     ]
    }
   ],
   "source": [
    "# This Python 3 environment comes with many helpful analytics libraries installed\n",
    "# It is defined by the kaggle/python Docker image: https://github.com/kaggle/docker-python\n",
    "# For example, here's several helpful packages to load\n",
    "\n",
    "import numpy as np # linear algebra\n",
    "import pandas as pd # data processing, CSV file I/O (e.g. pd.read_csv)\n",
    "\n",
    "# Input data files are available in the read-only \"../input/\" directory\n",
    "# For example, running this (by clicking run or pressing Shift+Enter) will list all files under the input directory\n",
    "\n",
    "import os\n",
    "for dirname, _, filenames in os.walk('/kaggle/input'):\n",
    "    for filename in filenames:\n",
    "        print(os.path.join(dirname, filename))\n",
    "\n",
    "# You can write up to 20GB to the current directory (/kaggle/working/) that gets preserved as output when you create a version using \"Save & Run All\" \n",
    "# You can also write temporary files to /kaggle/temp/, but they won't be saved outside of the current session"
   ]
  },
  {
   "cell_type": "code",
   "execution_count": 2,
   "id": "8acb62b5",
   "metadata": {
    "execution": {
     "iopub.execute_input": "2025-07-24T19:01:05.952109Z",
     "iopub.status.busy": "2025-07-24T19:01:05.951701Z",
     "iopub.status.idle": "2025-07-24T19:01:06.037397Z",
     "shell.execute_reply": "2025-07-24T19:01:06.036633Z"
    },
    "papermill": {
     "duration": 0.095283,
     "end_time": "2025-07-24T19:01:06.038956",
     "exception": false,
     "start_time": "2025-07-24T19:01:05.943673",
     "status": "completed"
    },
    "tags": []
   },
   "outputs": [],
   "source": [
    "import pandas as pd\n",
    "\n",
    "train_df_v1 = pd.read_csv('/kaggle/input/home-data-for-ml-course/train.csv')\n",
    "test_df_v1  = pd.read_csv('/kaggle/input/home-data-for-ml-course/test.csv')"
   ]
  },
  {
   "cell_type": "markdown",
   "id": "44ae2632",
   "metadata": {
    "papermill": {
     "duration": 0.006473,
     "end_time": "2025-07-24T19:01:06.052343",
     "exception": false,
     "start_time": "2025-07-24T19:01:06.045870",
     "status": "completed"
    },
    "tags": []
   },
   "source": [
    "# Modelling Steps\n",
    "1. Checking for Correlation\n",
    "2. Imputing NAs\n",
    "3. Splitting the DataFrame\n",
    "4. Encoding\n",
    "5. Scaling\n",
    "6. Dimensionality Reduction\n",
    "7. Regression Models\n",
    "8. Cross-Validating Model\n",
    "9. Saving the Model\n",
    "10. SHAP"
   ]
  },
  {
   "cell_type": "markdown",
   "id": "4e2dcd92",
   "metadata": {
    "papermill": {
     "duration": 0.006235,
     "end_time": "2025-07-24T19:01:06.065988",
     "exception": false,
     "start_time": "2025-07-24T19:01:06.059753",
     "status": "completed"
    },
    "tags": []
   },
   "source": [
    "\n",
    "# Check for Correlations b/w two features & b/w feature & target. Drop redundant features.\n"
   ]
  },
  {
   "cell_type": "code",
   "execution_count": 3,
   "id": "96d9a3e6",
   "metadata": {
    "execution": {
     "iopub.execute_input": "2025-07-24T19:01:06.080307Z",
     "iopub.status.busy": "2025-07-24T19:01:06.080020Z",
     "iopub.status.idle": "2025-07-24T19:01:06.135351Z",
     "shell.execute_reply": "2025-07-24T19:01:06.134286Z"
    },
    "papermill": {
     "duration": 0.064346,
     "end_time": "2025-07-24T19:01:06.136873",
     "exception": false,
     "start_time": "2025-07-24T19:01:06.072527",
     "status": "completed"
    },
    "tags": []
   },
   "outputs": [
    {
     "name": "stdout",
     "output_type": "stream",
     "text": [
      "GarageArea   GarageCars      0.882475\n",
      "GarageYrBlt  YearBuilt       0.825667\n",
      "GrLivArea    TotRmsAbvGrd    0.825489\n",
      "TotalBsmtSF  1stFlrSF        0.819530\n",
      "dtype: float64\n"
     ]
    }
   ],
   "source": [
    "correlation_matrix = train_df_v1.corr(numeric_only = True)\n",
    "threshold = 0.8\n",
    "# Unstack correlation matrix and filter\n",
    "corr_pairs = correlation_matrix.abs().unstack().sort_values(ascending=False)\n",
    "\n",
    "# Remove self-correlation (correlation of a feature with itself)\n",
    "corr_pairs = corr_pairs[corr_pairs < 1]\n",
    "\n",
    "# Drop duplicate pairs (since matrix is symmetric)\n",
    "strong_corr = corr_pairs[~corr_pairs.duplicated()]\n",
    "\n",
    "# Filter strong correlations\n",
    "strong_corr = strong_corr[strong_corr > threshold]\n",
    "print(strong_corr)"
   ]
  },
  {
   "cell_type": "code",
   "execution_count": 4,
   "id": "3e3fc373",
   "metadata": {
    "execution": {
     "iopub.execute_input": "2025-07-24T19:01:06.151651Z",
     "iopub.status.busy": "2025-07-24T19:01:06.151332Z",
     "iopub.status.idle": "2025-07-24T19:01:06.157387Z",
     "shell.execute_reply": "2025-07-24T19:01:06.156458Z"
    },
    "papermill": {
     "duration": 0.015301,
     "end_time": "2025-07-24T19:01:06.158962",
     "exception": false,
     "start_time": "2025-07-24T19:01:06.143661",
     "status": "completed"
    },
    "tags": []
   },
   "outputs": [],
   "source": [
    "train_df_v1 = train_df_v1.drop(columns = ['GarageCars', 'GarageYrBlt'])"
   ]
  },
  {
   "cell_type": "code",
   "execution_count": 5,
   "id": "5e903e8e",
   "metadata": {
    "execution": {
     "iopub.execute_input": "2025-07-24T19:01:06.174083Z",
     "iopub.status.busy": "2025-07-24T19:01:06.173505Z",
     "iopub.status.idle": "2025-07-24T19:01:06.184871Z",
     "shell.execute_reply": "2025-07-24T19:01:06.183995Z"
    },
    "papermill": {
     "duration": 0.020586,
     "end_time": "2025-07-24T19:01:06.186465",
     "exception": false,
     "start_time": "2025-07-24T19:01:06.165879",
     "status": "completed"
    },
    "tags": []
   },
   "outputs": [],
   "source": [
    "correlation_with_target = train_df_v1.corr(numeric_only = True)['SalePrice'].drop('SalePrice').sort_values(ascending = False)\n",
    "# print(correlation_with_target)"
   ]
  },
  {
   "cell_type": "code",
   "execution_count": 6,
   "id": "1fbc8567",
   "metadata": {
    "execution": {
     "iopub.execute_input": "2025-07-24T19:01:06.201723Z",
     "iopub.status.busy": "2025-07-24T19:01:06.200873Z",
     "iopub.status.idle": "2025-07-24T19:01:06.207350Z",
     "shell.execute_reply": "2025-07-24T19:01:06.206680Z"
    },
    "papermill": {
     "duration": 0.015476,
     "end_time": "2025-07-24T19:01:06.208937",
     "exception": false,
     "start_time": "2025-07-24T19:01:06.193461",
     "status": "completed"
    },
    "tags": []
   },
   "outputs": [],
   "source": [
    "# PoolArea         0.092404\n",
    "# MoSold           0.046432\n",
    "# 3SsnPorch        0.044584\n",
    "# BsmtFinSF2      -0.011378\n",
    "# BsmtHalfBath    -0.016844\n",
    "# MiscVal         -0.021190\n",
    "# Id              -0.021917\n",
    "# LowQualFinSF    -0.025606\n",
    "# YrSold          -0.028923\n",
    "# OverallCond     -0.077856\n",
    "# MSSubClass      -0.084284\n",
    "\n",
    "least_correlated_to_target = ['PoolArea', 'MoSold', '3SsnPorch', 'BsmtHalfBath', 'MiscVal', 'Id', 'LowQualFinSF', 'YrSold', 'OverallCond', 'MSSubClass']\n",
    "\n",
    "train_df_v1 = train_df_v1.drop(columns = least_correlated_to_target)"
   ]
  },
  {
   "cell_type": "code",
   "execution_count": 7,
   "id": "8b09bf7e",
   "metadata": {
    "execution": {
     "iopub.execute_input": "2025-07-24T19:01:06.224017Z",
     "iopub.status.busy": "2025-07-24T19:01:06.223750Z",
     "iopub.status.idle": "2025-07-24T19:01:06.229917Z",
     "shell.execute_reply": "2025-07-24T19:01:06.229178Z"
    },
    "papermill": {
     "duration": 0.015349,
     "end_time": "2025-07-24T19:01:06.231206",
     "exception": false,
     "start_time": "2025-07-24T19:01:06.215857",
     "status": "completed"
    },
    "tags": []
   },
   "outputs": [
    {
     "data": {
      "text/plain": [
       "(1460, 69)"
      ]
     },
     "execution_count": 7,
     "metadata": {},
     "output_type": "execute_result"
    }
   ],
   "source": [
    "train_df_v1.shape"
   ]
  },
  {
   "cell_type": "markdown",
   "id": "6df36696",
   "metadata": {
    "papermill": {
     "duration": 0.009307,
     "end_time": "2025-07-24T19:01:06.248792",
     "exception": false,
     "start_time": "2025-07-24T19:01:06.239485",
     "status": "completed"
    },
    "tags": []
   },
   "source": [
    "# Impute NAs"
   ]
  },
  {
   "cell_type": "code",
   "execution_count": 8,
   "id": "b7e3c98b",
   "metadata": {
    "execution": {
     "iopub.execute_input": "2025-07-24T19:01:06.265726Z",
     "iopub.status.busy": "2025-07-24T19:01:06.265395Z",
     "iopub.status.idle": "2025-07-24T19:01:06.278518Z",
     "shell.execute_reply": "2025-07-24T19:01:06.277361Z"
    },
    "papermill": {
     "duration": 0.023883,
     "end_time": "2025-07-24T19:01:06.280193",
     "exception": false,
     "start_time": "2025-07-24T19:01:06.256310",
     "status": "completed"
    },
    "tags": []
   },
   "outputs": [
    {
     "data": {
      "text/plain": [
       "Index(['LotFrontage', 'Alley', 'MasVnrType', 'MasVnrArea', 'BsmtQual',\n",
       "       'BsmtCond', 'BsmtExposure', 'BsmtFinType1', 'BsmtFinType2',\n",
       "       'Electrical', 'FireplaceQu', 'GarageType', 'GarageFinish', 'GarageQual',\n",
       "       'GarageCond', 'PoolQC', 'Fence', 'MiscFeature'],\n",
       "      dtype='object')"
      ]
     },
     "execution_count": 8,
     "metadata": {},
     "output_type": "execute_result"
    }
   ],
   "source": [
    "train_df_v1.columns[train_df_v1.isnull().any()]"
   ]
  },
  {
   "cell_type": "code",
   "execution_count": 9,
   "id": "fbf95caa",
   "metadata": {
    "execution": {
     "iopub.execute_input": "2025-07-24T19:01:06.300483Z",
     "iopub.status.busy": "2025-07-24T19:01:06.300083Z",
     "iopub.status.idle": "2025-07-24T19:01:06.329960Z",
     "shell.execute_reply": "2025-07-24T19:01:06.328948Z"
    },
    "papermill": {
     "duration": 0.042126,
     "end_time": "2025-07-24T19:01:06.331587",
     "exception": false,
     "start_time": "2025-07-24T19:01:06.289461",
     "status": "completed"
    },
    "tags": []
   },
   "outputs": [],
   "source": [
    "df_imputed = train_df_v1.copy()\n",
    "\n",
    "for col in df_imputed.columns:\n",
    "    if df_imputed[col].dtypes == 'object':\n",
    "        df_imputed[col] = df_imputed[col].fillna('No')\n",
    "    else:\n",
    "        df_imputed[col] = df_imputed[col].fillna(0)"
   ]
  },
  {
   "cell_type": "code",
   "execution_count": 10,
   "id": "a89033d8",
   "metadata": {
    "execution": {
     "iopub.execute_input": "2025-07-24T19:01:06.346670Z",
     "iopub.status.busy": "2025-07-24T19:01:06.346341Z",
     "iopub.status.idle": "2025-07-24T19:01:06.359102Z",
     "shell.execute_reply": "2025-07-24T19:01:06.358369Z"
    },
    "papermill": {
     "duration": 0.021705,
     "end_time": "2025-07-24T19:01:06.360291",
     "exception": false,
     "start_time": "2025-07-24T19:01:06.338586",
     "status": "completed"
    },
    "tags": []
   },
   "outputs": [
    {
     "data": {
      "text/plain": [
       "Index([], dtype='object')"
      ]
     },
     "execution_count": 10,
     "metadata": {},
     "output_type": "execute_result"
    }
   ],
   "source": [
    "df_imputed.columns[df_imputed.isnull().any()]"
   ]
  },
  {
   "cell_type": "markdown",
   "id": "d620e66c",
   "metadata": {
    "papermill": {
     "duration": 0.006814,
     "end_time": "2025-07-24T19:01:06.374486",
     "exception": false,
     "start_time": "2025-07-24T19:01:06.367672",
     "status": "completed"
    },
    "tags": []
   },
   "source": [
    "# Split into Train & Test"
   ]
  },
  {
   "cell_type": "code",
   "execution_count": 11,
   "id": "f9a80450",
   "metadata": {
    "execution": {
     "iopub.execute_input": "2025-07-24T19:01:06.390022Z",
     "iopub.status.busy": "2025-07-24T19:01:06.389729Z",
     "iopub.status.idle": "2025-07-24T19:01:06.400070Z",
     "shell.execute_reply": "2025-07-24T19:01:06.398881Z"
    },
    "papermill": {
     "duration": 0.020111,
     "end_time": "2025-07-24T19:01:06.402017",
     "exception": false,
     "start_time": "2025-07-24T19:01:06.381906",
     "status": "completed"
    },
    "tags": []
   },
   "outputs": [],
   "source": [
    "X = df_imputed.drop(columns = 'SalePrice')\n",
    "y = df_imputed['SalePrice']"
   ]
  },
  {
   "cell_type": "code",
   "execution_count": 12,
   "id": "c02f2113",
   "metadata": {
    "execution": {
     "iopub.execute_input": "2025-07-24T19:01:06.505754Z",
     "iopub.status.busy": "2025-07-24T19:01:06.505377Z",
     "iopub.status.idle": "2025-07-24T19:01:08.132974Z",
     "shell.execute_reply": "2025-07-24T19:01:08.132086Z"
    },
    "papermill": {
     "duration": 1.720594,
     "end_time": "2025-07-24T19:01:08.134557",
     "exception": false,
     "start_time": "2025-07-24T19:01:06.413963",
     "status": "completed"
    },
    "tags": []
   },
   "outputs": [],
   "source": [
    "from sklearn.model_selection import train_test_split\n",
    "X_train, X_test, y_train, y_test = train_test_split(X, y, test_size = 0.2, random_state = 42)"
   ]
  },
  {
   "cell_type": "markdown",
   "id": "db587cf0",
   "metadata": {
    "papermill": {
     "duration": 0.006838,
     "end_time": "2025-07-24T19:01:08.148716",
     "exception": false,
     "start_time": "2025-07-24T19:01:08.141878",
     "status": "completed"
    },
    "tags": []
   },
   "source": [
    "# Encoding"
   ]
  },
  {
   "cell_type": "code",
   "execution_count": 13,
   "id": "7cecb770",
   "metadata": {
    "execution": {
     "iopub.execute_input": "2025-07-24T19:01:08.163881Z",
     "iopub.status.busy": "2025-07-24T19:01:08.163421Z",
     "iopub.status.idle": "2025-07-24T19:01:08.238905Z",
     "shell.execute_reply": "2025-07-24T19:01:08.238067Z"
    },
    "papermill": {
     "duration": 0.084844,
     "end_time": "2025-07-24T19:01:08.240543",
     "exception": false,
     "start_time": "2025-07-24T19:01:08.155699",
     "status": "completed"
    },
    "tags": []
   },
   "outputs": [],
   "source": [
    "obj_cols = X_train.select_dtypes(include = 'object').columns\n",
    "X_train  = pd.get_dummies(X_train, columns = obj_cols)\n",
    "X_test = pd.get_dummies(X_test, columns = obj_cols)\n",
    "\n",
    "missing_cols = set(X_train.columns) - set(X_test.columns)\n",
    "for col in missing_cols:\n",
    "    X_test[col] = 0\n",
    "\n",
    "X_test = X_test[X_train.columns]"
   ]
  },
  {
   "cell_type": "markdown",
   "id": "af46a56c",
   "metadata": {
    "papermill": {
     "duration": 0.006756,
     "end_time": "2025-07-24T19:01:08.254498",
     "exception": false,
     "start_time": "2025-07-24T19:01:08.247742",
     "status": "completed"
    },
    "tags": []
   },
   "source": [
    "# Scaling"
   ]
  },
  {
   "cell_type": "code",
   "execution_count": 14,
   "id": "55f0e4ea",
   "metadata": {
    "execution": {
     "iopub.execute_input": "2025-07-24T19:01:08.269561Z",
     "iopub.status.busy": "2025-07-24T19:01:08.269250Z",
     "iopub.status.idle": "2025-07-24T19:01:08.318191Z",
     "shell.execute_reply": "2025-07-24T19:01:08.317467Z"
    },
    "papermill": {
     "duration": 0.058429,
     "end_time": "2025-07-24T19:01:08.319799",
     "exception": false,
     "start_time": "2025-07-24T19:01:08.261370",
     "status": "completed"
    },
    "tags": []
   },
   "outputs": [],
   "source": [
    "from sklearn.preprocessing import StandardScaler\n",
    "\n",
    "original_numeric_columns = X.select_dtypes(include = ['int64', 'float64']).columns\n",
    "\n",
    "scaler = StandardScaler()\n",
    "\n",
    "X_train_scaled_num = pd.DataFrame(scaler.fit_transform(X_train[original_numeric_columns]), columns = original_numeric_columns, index = X_train.index)\n",
    "X_test_scaled_num = pd.DataFrame(scaler.transform(X_test[original_numeric_columns]), columns = original_numeric_columns, index = X_test.index)\n",
    "\n",
    "encoded_cols = X_train.columns.difference(original_numeric_columns)\n",
    "\n",
    "X_train_scaled = pd.concat([X_train_scaled_num, X_train[encoded_cols]], axis = 1)\n",
    "X_test_scaled = pd.concat([X_test_scaled_num, X_test[encoded_cols]], axis = 1)"
   ]
  },
  {
   "cell_type": "markdown",
   "id": "1ed8567c",
   "metadata": {
    "papermill": {
     "duration": 0.006702,
     "end_time": "2025-07-24T19:01:08.333714",
     "exception": false,
     "start_time": "2025-07-24T19:01:08.327012",
     "status": "completed"
    },
    "tags": []
   },
   "source": [
    "# Dimensionality Reduction using PCA"
   ]
  },
  {
   "cell_type": "code",
   "execution_count": 15,
   "id": "d4f4211a",
   "metadata": {
    "execution": {
     "iopub.execute_input": "2025-07-24T19:01:08.348774Z",
     "iopub.status.busy": "2025-07-24T19:01:08.348431Z",
     "iopub.status.idle": "2025-07-24T19:01:08.609448Z",
     "shell.execute_reply": "2025-07-24T19:01:08.608724Z"
    },
    "papermill": {
     "duration": 0.270733,
     "end_time": "2025-07-24T19:01:08.611383",
     "exception": false,
     "start_time": "2025-07-24T19:01:08.340650",
     "status": "completed"
    },
    "tags": []
   },
   "outputs": [],
   "source": [
    "# PCA\n",
    "from sklearn.decomposition import PCA\n",
    "pca = PCA()\n",
    "pca.fit(X_train_scaled)\n",
    "explained_var = pca.explained_variance_ratio_"
   ]
  },
  {
   "cell_type": "code",
   "execution_count": 16,
   "id": "b79c53e3",
   "metadata": {
    "execution": {
     "iopub.execute_input": "2025-07-24T19:01:08.636567Z",
     "iopub.status.busy": "2025-07-24T19:01:08.636231Z",
     "iopub.status.idle": "2025-07-24T19:01:08.996841Z",
     "shell.execute_reply": "2025-07-24T19:01:08.996002Z"
    },
    "papermill": {
     "duration": 0.375097,
     "end_time": "2025-07-24T19:01:08.998230",
     "exception": false,
     "start_time": "2025-07-24T19:01:08.623133",
     "status": "completed"
    },
    "tags": []
   },
   "outputs": [
    {
     "data": {
      "image/png": "[encoded data removed]",
      "text/plain": [
       "<Figure size 640x480 with 1 Axes>"
      ]
     },
     "metadata": {},
     "output_type": "display_data"
    }
   ],
   "source": [
    "import matplotlib.pyplot as plt\n",
    "\n",
    "plt.plot(range(1, len(explained_var)+1), explained_var, marker='o')\n",
    "plt.xlabel('Principal Component')\n",
    "plt.ylabel('Explained Variance Ratio')\n",
    "plt.title('Scree Plot')\n",
    "plt.grid(True)\n",
    "plt.show()"
   ]
  },
  {
   "cell_type": "code",
   "execution_count": 17,
   "id": "80ff443e",
   "metadata": {
    "execution": {
     "iopub.execute_input": "2025-07-24T19:01:09.014623Z",
     "iopub.status.busy": "2025-07-24T19:01:09.014287Z",
     "iopub.status.idle": "2025-07-24T19:01:09.074982Z",
     "shell.execute_reply": "2025-07-24T19:01:09.072083Z"
    },
    "papermill": {
     "duration": 0.072181,
     "end_time": "2025-07-24T19:01:09.078107",
     "exception": false,
     "start_time": "2025-07-24T19:01:09.005926",
     "status": "completed"
    },
    "tags": []
   },
   "outputs": [],
   "source": [
    "pca = PCA(n_components = 15)\n",
    "X_train_pca = pca.fit_transform(X_train_scaled)\n",
    "X_test_pca = pca.transform(X_test_scaled)"
   ]
  },
  {
   "cell_type": "code",
   "execution_count": 18,
   "id": "e6229252",
   "metadata": {
    "execution": {
     "iopub.execute_input": "2025-07-24T19:01:09.104879Z",
     "iopub.status.busy": "2025-07-24T19:01:09.104334Z",
     "iopub.status.idle": "2025-07-24T19:01:09.110151Z",
     "shell.execute_reply": "2025-07-24T19:01:09.108532Z"
    },
    "papermill": {
     "duration": 0.021097,
     "end_time": "2025-07-24T19:01:09.111824",
     "exception": false,
     "start_time": "2025-07-24T19:01:09.090727",
     "status": "completed"
    },
    "tags": []
   },
   "outputs": [
    {
     "data": {
      "text/plain": [
       "(292, 15)"
      ]
     },
     "execution_count": 18,
     "metadata": {},
     "output_type": "execute_result"
    }
   ],
   "source": [
    "X_train_pca.shape\n",
    "X_test_pca.shape"
   ]
  },
  {
   "cell_type": "markdown",
   "id": "9e050123",
   "metadata": {
    "papermill": {
     "duration": 0.012499,
     "end_time": "2025-07-24T19:01:09.137064",
     "exception": false,
     "start_time": "2025-07-24T19:01:09.124565",
     "status": "completed"
    },
    "tags": []
   },
   "source": [
    "# Regression Models\n",
    "* LinearRegression\n",
    "* DecisionTreeRegressor\n",
    "* RandomForestRegressor\n",
    "* SVR (Support Vector Regression)\n",
    "* KNeighborsRegressor"
   ]
  },
  {
   "cell_type": "markdown",
   "id": "e18cf2e2",
   "metadata": {
    "papermill": {
     "duration": 0.012561,
     "end_time": "2025-07-24T19:01:09.162774",
     "exception": false,
     "start_time": "2025-07-24T19:01:09.150213",
     "status": "completed"
    },
    "tags": []
   },
   "source": [
    "# Linear Regression"
   ]
  },
  {
   "cell_type": "code",
   "execution_count": 19,
   "id": "40415632",
   "metadata": {
    "execution": {
     "iopub.execute_input": "2025-07-24T19:01:09.185990Z",
     "iopub.status.busy": "2025-07-24T19:01:09.185694Z",
     "iopub.status.idle": "2025-07-24T19:01:09.199725Z",
     "shell.execute_reply": "2025-07-24T19:01:09.199038Z"
    },
    "papermill": {
     "duration": 0.026214,
     "end_time": "2025-07-24T19:01:09.201737",
     "exception": false,
     "start_time": "2025-07-24T19:01:09.175523",
     "status": "completed"
    },
    "tags": []
   },
   "outputs": [],
   "source": [
    "from sklearn.linear_model import LinearRegression\n",
    "\n",
    "linear_model = LinearRegression()\n",
    "\n",
    "linear_model.fit(X_train_pca, y_train)\n",
    "\n",
    "y_pred = linear_model.predict(X_test_pca)"
   ]
  },
  {
   "cell_type": "code",
   "execution_count": 20,
   "id": "2103a6a9",
   "metadata": {
    "execution": {
     "iopub.execute_input": "2025-07-24T19:01:09.230571Z",
     "iopub.status.busy": "2025-07-24T19:01:09.230235Z",
     "iopub.status.idle": "2025-07-24T19:01:09.239273Z",
     "shell.execute_reply": "2025-07-24T19:01:09.238577Z"
    },
    "papermill": {
     "duration": 0.025953,
     "end_time": "2025-07-24T19:01:09.240898",
     "exception": false,
     "start_time": "2025-07-24T19:01:09.214945",
     "status": "completed"
    },
    "tags": []
   },
   "outputs": [],
   "source": [
    "#Evaluating the model\n",
    "from sklearn.metrics import mean_squared_error, r2_score, mean_absolute_error\n",
    "mse = mean_squared_error(y_test, y_pred)\n",
    "rmse = np.sqrt(mse)\n",
    "mae = mean_absolute_error(y_test, y_pred)\n",
    "r2 = r2_score(y_test, y_pred)"
   ]
  },
  {
   "cell_type": "code",
   "execution_count": 21,
   "id": "e68d653b",
   "metadata": {
    "execution": {
     "iopub.execute_input": "2025-07-24T19:01:09.269272Z",
     "iopub.status.busy": "2025-07-24T19:01:09.268836Z",
     "iopub.status.idle": "2025-07-24T19:01:09.277209Z",
     "shell.execute_reply": "2025-07-24T19:01:09.276522Z"
    },
    "papermill": {
     "duration": 0.024129,
     "end_time": "2025-07-24T19:01:09.278982",
     "exception": false,
     "start_time": "2025-07-24T19:01:09.254853",
     "status": "completed"
    },
    "tags": []
   },
   "outputs": [
    {
     "name": "stdout",
     "output_type": "stream",
     "text": [
      "MSE: 1428931743.5721936\n",
      "RMSE: 37801.213519835495\n",
      "MAE: 22768.176700878295\n",
      "R2: 0.8137065223858042\n"
     ]
    }
   ],
   "source": [
    "print(f\"MSE: {mse}\")\n",
    "print(f\"RMSE: {rmse}\")\n",
    "print(f\"MAE: {mae}\")\n",
    "print(f\"R2: {r2}\")"
   ]
  },
  {
   "cell_type": "markdown",
   "id": "3c8719a4",
   "metadata": {
    "papermill": {
     "duration": 0.013524,
     "end_time": "2025-07-24T19:01:09.306713",
     "exception": false,
     "start_time": "2025-07-24T19:01:09.293189",
     "status": "completed"
    },
    "tags": []
   },
   "source": [
    "# Adding Regularization"
   ]
  },
  {
   "cell_type": "code",
   "execution_count": 22,
   "id": "c1e692b8",
   "metadata": {
    "execution": {
     "iopub.execute_input": "2025-07-24T19:01:09.328365Z",
     "iopub.status.busy": "2025-07-24T19:01:09.328072Z",
     "iopub.status.idle": "2025-07-24T19:01:09.391666Z",
     "shell.execute_reply": "2025-07-24T19:01:09.390738Z"
    },
    "papermill": {
     "duration": 0.07378,
     "end_time": "2025-07-24T19:01:09.393252",
     "exception": false,
     "start_time": "2025-07-24T19:01:09.319472",
     "status": "completed"
    },
    "tags": []
   },
   "outputs": [
    {
     "name": "stdout",
     "output_type": "stream",
     "text": [
      "Best Alpha: {'alpha': 100}\n",
      "Best R2 score: 0.7762739011050785\n"
     ]
    }
   ],
   "source": [
    "from sklearn.linear_model import Ridge\n",
    "from sklearn.model_selection import GridSearchCV\n",
    "\n",
    "ridge = Ridge()\n",
    "\n",
    "param_grid = {\n",
    "    'alpha' : [0.01, 0.1, 1, 10, 100] \n",
    "}\n",
    "\n",
    "grid_search = GridSearchCV(estimator = ridge, param_grid = param_grid, cv = 5, scoring = 'r2')\n",
    "\n",
    "grid_search.fit(X_train_pca, y_train)\n",
    "\n",
    "print(f\"Best Alpha:\", grid_search.best_params_)\n",
    "print(f\"Best R2 score:\", grid_search.best_score_)"
   ]
  },
  {
   "cell_type": "code",
   "execution_count": 23,
   "id": "a2621e8d",
   "metadata": {
    "execution": {
     "iopub.execute_input": "2025-07-24T19:01:09.410458Z",
     "iopub.status.busy": "2025-07-24T19:01:09.410140Z",
     "iopub.status.idle": "2025-07-24T19:01:09.416079Z",
     "shell.execute_reply": "2025-07-24T19:01:09.415090Z"
    },
    "papermill": {
     "duration": 0.016287,
     "end_time": "2025-07-24T19:01:09.417527",
     "exception": false,
     "start_time": "2025-07-24T19:01:09.401240",
     "status": "completed"
    },
    "tags": []
   },
   "outputs": [
    {
     "name": "stdout",
     "output_type": "stream",
     "text": [
      "Test R2 Score: 0.8118166268768098\n"
     ]
    }
   ],
   "source": [
    "best_model = grid_search.best_estimator_\n",
    "print(f\"Test R2 Score:\", best_model.score(X_test_pca, y_test))"
   ]
  },
  {
   "cell_type": "code",
   "execution_count": 24,
   "id": "7259c975",
   "metadata": {
    "execution": {
     "iopub.execute_input": "2025-07-24T19:01:09.434753Z",
     "iopub.status.busy": "2025-07-24T19:01:09.434381Z",
     "iopub.status.idle": "2025-07-24T19:01:09.442513Z",
     "shell.execute_reply": "2025-07-24T19:01:09.441543Z"
    },
    "papermill": {
     "duration": 0.018372,
     "end_time": "2025-07-24T19:01:09.444086",
     "exception": false,
     "start_time": "2025-07-24T19:01:09.425714",
     "status": "completed"
    },
    "tags": []
   },
   "outputs": [
    {
     "name": "stdout",
     "output_type": "stream",
     "text": [
      "MSE: 1443427858.6236792\n",
      "RMSE: 37992.47107814493\n",
      "MAE: 22694.162657165474\n",
      "R2: 0.8118166268768098\n"
     ]
    }
   ],
   "source": [
    "y_linear_reg_pred = grid_search.predict(X_test_pca)\n",
    "\n",
    "mse = mean_squared_error(y_test, y_linear_reg_pred)\n",
    "rmse = np.sqrt(mse)\n",
    "mae = mean_absolute_error(y_test, y_linear_reg_pred)\n",
    "r2 = r2_score(y_test, y_linear_reg_pred)\n",
    "\n",
    "print(f\"MSE: {mse}\")\n",
    "print(f\"RMSE: {rmse}\")\n",
    "print(f\"MAE: {mae}\")\n",
    "print(f\"R2: {r2}\")"
   ]
  },
  {
   "cell_type": "markdown",
   "id": "a468f176",
   "metadata": {
    "papermill": {
     "duration": 0.008114,
     "end_time": "2025-07-24T19:01:09.460397",
     "exception": false,
     "start_time": "2025-07-24T19:01:09.452283",
     "status": "completed"
    },
    "tags": []
   },
   "source": [
    "# DecisionTree Regression"
   ]
  },
  {
   "cell_type": "code",
   "execution_count": 25,
   "id": "76653e04",
   "metadata": {
    "execution": {
     "iopub.execute_input": "2025-07-24T19:01:09.477577Z",
     "iopub.status.busy": "2025-07-24T19:01:09.477176Z",
     "iopub.status.idle": "2025-07-24T19:01:12.669491Z",
     "shell.execute_reply": "2025-07-24T19:01:12.668458Z"
    },
    "papermill": {
     "duration": 3.202701,
     "end_time": "2025-07-24T19:01:12.671015",
     "exception": false,
     "start_time": "2025-07-24T19:01:09.468314",
     "status": "completed"
    },
    "tags": []
   },
   "outputs": [
    {
     "name": "stdout",
     "output_type": "stream",
     "text": [
      "Best params:  {'max_depth': 7, 'min_samples_leaf': 4, 'min_samples_split': 10}\n",
      "Best R2 Score:  0.7041184675875508\n"
     ]
    }
   ],
   "source": [
    "# Applying DecisionTree Regressor without Scaling & PCA\n",
    "from sklearn.tree import DecisionTreeRegressor\n",
    "\n",
    "params = {\n",
    "    'max_depth' : [3, 5, 7],\n",
    "    'min_samples_split' : [2, 5, 10],\n",
    "    'min_samples_leaf' : [1, 2, 4]\n",
    "}\n",
    "\n",
    "grid = GridSearchCV(DecisionTreeRegressor(), params, scoring = 'r2', cv = 5)\n",
    "\n",
    "grid.fit(X_train, y_train)\n",
    "\n",
    "print(f\"Best params: \", grid.best_params_)\n",
    "print(f\"Best R2 Score: \", grid.best_score_)"
   ]
  },
  {
   "cell_type": "code",
   "execution_count": 26,
   "id": "f57b82f9",
   "metadata": {
    "execution": {
     "iopub.execute_input": "2025-07-24T19:01:12.688880Z",
     "iopub.status.busy": "2025-07-24T19:01:12.688520Z",
     "iopub.status.idle": "2025-07-24T19:01:12.725116Z",
     "shell.execute_reply": "2025-07-24T19:01:12.724209Z"
    },
    "papermill": {
     "duration": 0.047203,
     "end_time": "2025-07-24T19:01:12.726570",
     "exception": false,
     "start_time": "2025-07-24T19:01:12.679367",
     "status": "completed"
    },
    "tags": []
   },
   "outputs": [
    {
     "name": "stdout",
     "output_type": "stream",
     "text": [
      "R2 Score:  0.8119135183432383\n"
     ]
    }
   ],
   "source": [
    "regressor = DecisionTreeRegressor(max_depth = 7, min_samples_leaf = 4, min_samples_split = 10, random_state = 42)\n",
    "regressor.fit(X_train, y_train)\n",
    "\n",
    "y_pred = regressor.predict(X_test)\n",
    "\n",
    "print(f\"R2 Score: \", r2_score(y_test, y_pred))"
   ]
  },
  {
   "cell_type": "markdown",
   "id": "4e188187",
   "metadata": {
    "papermill": {
     "duration": 0.007497,
     "end_time": "2025-07-24T19:01:12.742216",
     "exception": false,
     "start_time": "2025-07-24T19:01:12.734719",
     "status": "completed"
    },
    "tags": []
   },
   "source": [
    "# RandomForestRegressor"
   ]
  },
  {
   "cell_type": "code",
   "execution_count": 27,
   "id": "ddbf5309",
   "metadata": {
    "execution": {
     "iopub.execute_input": "2025-07-24T19:01:12.759253Z",
     "iopub.status.busy": "2025-07-24T19:01:12.758968Z",
     "iopub.status.idle": "2025-07-24T19:06:11.252761Z",
     "shell.execute_reply": "2025-07-24T19:06:11.251720Z"
    },
    "papermill": {
     "duration": 298.512017,
     "end_time": "2025-07-24T19:06:11.262133",
     "exception": false,
     "start_time": "2025-07-24T19:01:12.750116",
     "status": "completed"
    },
    "tags": []
   },
   "outputs": [
    {
     "name": "stdout",
     "output_type": "stream",
     "text": [
      "Best Parameters:  {'max_depth': 20, 'min_samples_leaf': 1, 'min_samples_split': 2, 'n_estimators': 200}\n",
      "Best R2 Score:  0.8395299190159513\n"
     ]
    }
   ],
   "source": [
    "from sklearn.ensemble import RandomForestRegressor\n",
    "\n",
    "param_grid = {\n",
    "    'n_estimators' : [100, 200],\n",
    "    'max_depth' : [None, 10, 20],\n",
    "    'min_samples_split': [2, 5],\n",
    "    'min_samples_leaf' : [1, 2]\n",
    "}\n",
    "\n",
    "rf = RandomForestRegressor(random_state = 42)\n",
    "\n",
    "grid = GridSearchCV(estimator = rf, param_grid = param_grid, cv = 5, scoring = 'r2')\n",
    "\n",
    "grid.fit(X_train, y_train)\n",
    "\n",
    "print(f\"Best Parameters: \", grid.best_params_)\n",
    "print(f\"Best R2 Score: \", grid.best_score_)"
   ]
  },
  {
   "cell_type": "code",
   "execution_count": 28,
   "id": "449b5454",
   "metadata": {
    "execution": {
     "iopub.execute_input": "2025-07-24T19:06:11.278932Z",
     "iopub.status.busy": "2025-07-24T19:06:11.278653Z",
     "iopub.status.idle": "2025-07-24T19:06:11.309360Z",
     "shell.execute_reply": "2025-07-24T19:06:11.308485Z"
    },
    "papermill": {
     "duration": 0.040963,
     "end_time": "2025-07-24T19:06:11.310879",
     "exception": false,
     "start_time": "2025-07-24T19:06:11.269916",
     "status": "completed"
    },
    "tags": []
   },
   "outputs": [
    {
     "name": "stdout",
     "output_type": "stream",
     "text": [
      "R2 Score:  0.887946985881946\n"
     ]
    }
   ],
   "source": [
    "best_rf_model = grid.best_estimator_\n",
    "y_pred = best_rf_model.predict(X_test)\n",
    "\n",
    "print(f\"R2 Score: \", r2_score(y_test, y_pred))"
   ]
  },
  {
   "cell_type": "markdown",
   "id": "36d64a46",
   "metadata": {
    "papermill": {
     "duration": 0.007792,
     "end_time": "2025-07-24T19:06:11.327099",
     "exception": false,
     "start_time": "2025-07-24T19:06:11.319307",
     "status": "completed"
    },
    "tags": []
   },
   "source": [
    "# XGBoost"
   ]
  },
  {
   "cell_type": "code",
   "execution_count": 29,
   "id": "ed663b75",
   "metadata": {
    "execution": {
     "iopub.execute_input": "2025-07-24T19:06:11.344364Z",
     "iopub.status.busy": "2025-07-24T19:06:11.343817Z",
     "iopub.status.idle": "2025-07-24T19:06:28.639870Z",
     "shell.execute_reply": "2025-07-24T19:06:28.639044Z"
    },
    "papermill": {
     "duration": 17.306338,
     "end_time": "2025-07-24T19:06:28.641296",
     "exception": false,
     "start_time": "2025-07-24T19:06:11.334958",
     "status": "completed"
    },
    "tags": []
   },
   "outputs": [
    {
     "name": "stdout",
     "output_type": "stream",
     "text": [
      "Fitting 5 folds for each of 8 candidates, totalling 40 fits\n",
      "Best Parameters:  {'learning_rate': 0.1, 'max_depth': 3, 'n_estimators': 200}\n",
      "Best R2 Score:  0.8587637372973591\n"
     ]
    }
   ],
   "source": [
    "from xgboost import XGBRegressor\n",
    "\n",
    "param_grid = {\n",
    "    'n_estimators' : [100, 200],\n",
    "    'learning_rate' : [0.05, 0.1],\n",
    "    'max_depth' : [3, 5]\n",
    "}\n",
    "\n",
    "xgb = XGBRegressor(random_state = 42)\n",
    "\n",
    "grid = GridSearchCV(estimator = xgb, param_grid = param_grid, cv = 5, scoring = 'r2', verbose = 1)\n",
    "\n",
    "grid.fit(X_train, y_train)\n",
    "\n",
    "print(\"Best Parameters: \", grid.best_params_)\n",
    "print(\"Best R2 Score: \", grid.best_score_)"
   ]
  },
  {
   "cell_type": "code",
   "execution_count": 30,
   "id": "76ce017b",
   "metadata": {
    "execution": {
     "iopub.execute_input": "2025-07-24T19:06:28.659175Z",
     "iopub.status.busy": "2025-07-24T19:06:28.658895Z",
     "iopub.status.idle": "2025-07-24T19:06:28.698278Z",
     "shell.execute_reply": "2025-07-24T19:06:28.697578Z"
    },
    "papermill": {
     "duration": 0.049944,
     "end_time": "2025-07-24T19:06:28.699900",
     "exception": false,
     "start_time": "2025-07-24T19:06:28.649956",
     "status": "completed"
    },
    "tags": []
   },
   "outputs": [
    {
     "name": "stdout",
     "output_type": "stream",
     "text": [
      "R2 Score:  0.9013737865701049\n",
      "MSE:  756495229.5869552\n",
      "RMSE:  27504.45835836356\n",
      "MAE:  17430.52635380993\n"
     ]
    }
   ],
   "source": [
    "best_model = grid.best_estimator_\n",
    "y_pred = grid.predict(X_test)\n",
    "\n",
    "print(\"R2 Score: \", r2_score(y_test, y_pred))\n",
    "print(\"MSE: \", mean_squared_error(y_test, y_pred))\n",
    "print(\"RMSE: \", np.sqrt(mean_squared_error(y_test, y_pred)))\n",
    "print(\"MAE: \", mean_absolute_error(y_test, y_pred))"
   ]
  },
  {
   "cell_type": "markdown",
   "id": "dea70c56",
   "metadata": {
    "papermill": {
     "duration": 0.008039,
     "end_time": "2025-07-24T19:06:28.716363",
     "exception": false,
     "start_time": "2025-07-24T19:06:28.708324",
     "status": "completed"
    },
    "tags": []
   },
   "source": [
    "# Cross-Validating the Model"
   ]
  },
  {
   "cell_type": "code",
   "execution_count": 31,
   "id": "2352bfd5",
   "metadata": {
    "execution": {
     "iopub.execute_input": "2025-07-24T19:06:28.734541Z",
     "iopub.status.busy": "2025-07-24T19:06:28.734180Z",
     "iopub.status.idle": "2025-07-24T19:06:30.579004Z",
     "shell.execute_reply": "2025-07-24T19:06:30.578409Z"
    },
    "papermill": {
     "duration": 1.855585,
     "end_time": "2025-07-24T19:06:30.580267",
     "exception": false,
     "start_time": "2025-07-24T19:06:28.724682",
     "status": "completed"
    },
    "tags": []
   },
   "outputs": [
    {
     "name": "stdout",
     "output_type": "stream",
     "text": [
      "CV R2 Mean:  0.8587637372973591\n",
      "CV R2 Std:  0.030215557190885946\n"
     ]
    }
   ],
   "source": [
    "from sklearn.model_selection import cross_val_score\n",
    "cv_scores = cross_val_score(best_model, X_train, y_train, cv = 5, scoring = 'r2')\n",
    "print(\"CV R2 Mean: \", cv_scores.mean())\n",
    "print(\"CV R2 Std: \",cv_scores.std())"
   ]
  },
  {
   "cell_type": "markdown",
   "id": "9addd92c",
   "metadata": {
    "papermill": {
     "duration": 0.007887,
     "end_time": "2025-07-24T19:06:30.596357",
     "exception": false,
     "start_time": "2025-07-24T19:06:30.588470",
     "status": "completed"
    },
    "tags": []
   },
   "source": [
    "# Saving the Model"
   ]
  },
  {
   "cell_type": "code",
   "execution_count": 32,
   "id": "9aa6b1e2",
   "metadata": {
    "execution": {
     "iopub.execute_input": "2025-07-24T19:06:30.613688Z",
     "iopub.status.busy": "2025-07-24T19:06:30.613321Z",
     "iopub.status.idle": "2025-07-24T19:06:30.627127Z",
     "shell.execute_reply": "2025-07-24T19:06:30.626463Z"
    },
    "papermill": {
     "duration": 0.024582,
     "end_time": "2025-07-24T19:06:30.628919",
     "exception": false,
     "start_time": "2025-07-24T19:06:30.604337",
     "status": "completed"
    },
    "tags": []
   },
   "outputs": [],
   "source": [
    "import joblib\n",
    "\n",
    "#Save\n",
    "joblib.dump(best_model, 'xgboost_model.pkl')\n",
    "\n",
    "#Load\n",
    "loaded_model = joblib.load('xgboost_model.pkl')"
   ]
  },
  {
   "cell_type": "markdown",
   "id": "8ff23a38",
   "metadata": {
    "papermill": {
     "duration": 0.008153,
     "end_time": "2025-07-24T19:06:30.645559",
     "exception": false,
     "start_time": "2025-07-24T19:06:30.637406",
     "status": "completed"
    },
    "tags": []
   },
   "source": [
    "# SHAP"
   ]
  },
  {
   "cell_type": "code",
   "execution_count": 33,
   "id": "35225f93",
   "metadata": {
    "execution": {
     "iopub.execute_input": "2025-07-24T19:06:30.663403Z",
     "iopub.status.busy": "2025-07-24T19:06:30.663072Z",
     "iopub.status.idle": "2025-07-24T19:06:39.515485Z",
     "shell.execute_reply": "2025-07-24T19:06:39.514527Z"
    },
    "papermill": {
     "duration": 8.864476,
     "end_time": "2025-07-24T19:06:39.518241",
     "exception": false,
     "start_time": "2025-07-24T19:06:30.653765",
     "status": "completed"
    },
    "tags": []
   },
   "outputs": [
    {
     "data": {
      "image/png": "[encoded data removed]",
      "text/plain": [
       "<Figure size 800x950 with 2 Axes>"
      ]
     },
     "metadata": {},
     "output_type": "display_data"
    }
   ],
   "source": [
    "import shap\n",
    "\n",
    "explainer = shap.Explainer(best_model)\n",
    "shap_values = explainer(X_test)\n",
    "\n",
    "shap.summary_plot(shap_values, X_test)"
   ]
  }
 ],
 "metadata": {
  "kaggle": {
   "accelerator": "none",
   "dataSources": [
    {
     "databundleVersionId": 111096,
     "sourceId": 10211,
     "sourceType": "competition"
    }
   ],
   "dockerImageVersionId": 31089,
   "isGpuEnabled": false,
   "isInternetEnabled": true,
   "language": "python",
   "sourceType": "notebook"
  },
  "kernelspec": {
   "display_name": "Python 3",
   "language": "python",
   "name": "python3"
  },
  "language_info": {
   "codemirror_mode": {
    "name": "ipython",
    "version": 3
   },
   "file_extension": ".py",
   "mimetype": "text/x-python",
   "name": "python",
   "nbconvert_exporter": "python",
   "pygments_lexer": "ipython3",
   "version": "3.11.13"
  },
  "papermill": {
   "default_parameters": {},
   "duration": 342.227813,
   "end_time": "2025-07-24T19:06:41.453107",
   "environment_variables": {},
   "exception": null,
   "input_path": "__notebook__.ipynb",
   "output_path": "__notebook__.ipynb",
   "parameters": {},
   "start_time": "2025-07-24T19:00:59.225294",
   "version": "2.6.0"
  }
 },
 "nbformat": 4,
 "nbformat_minor": 5
}
